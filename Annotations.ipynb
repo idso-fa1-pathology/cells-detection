{
 "cells": [
  {
   "cell_type": "code",
   "execution_count": 14,
   "id": "5cbbfd62",
   "metadata": {
    "scrolled": true
   },
   "outputs": [
    {
     "name": "stdout",
     "output_type": "stream",
     "text": [
      "Skipping line due to parsing error: 1,17,6,[(0.6341298530744202,0.9107860149071415),                                                                                                                                                                                                                                                                                                                                                                                                                                                                                                                                                                                                                    \n",
      ". Error: invalid literal for int() with base 10: ''\n",
      "Skipping line due to parsing error: 1,1988,6,[(0.6342029618406476,0.9109958133994494),\n",
      ". Error: invalid literal for int() with base 10: ''\n",
      "Skipping line due to parsing error: (0.6503451583942874,0.8844702322448736)],#00ffff,1,20/11/2023/14:44:48                                                                                                                                                                                                                                                                                                           \n",
      ". Error: Insufficient data\n",
      "Skipping line due to parsing error: 1,1989,6,[(0.6342078408451441,0.9110560801936276),\n",
      ". Error: invalid literal for int() with base 10: ''\n",
      "Skipping line due to parsing error: (0.6552637141999558,0.8856223263975527)],#00ffff,1,20/11/2023/14:44:51                                                                                                                                                                                                                                                                                                           \n",
      ". Error: Insufficient data\n",
      "Skipping line due to parsing error: 1,1991,6,[(0.6343085473925008,0.9110411308048502),\n",
      ". Error: invalid literal for int() with base 10: ''\n",
      "Skipping line due to parsing error: (0.6484840832245751,0.8814127516089176)],#00ffff,1,20/11/2023/14:44:56                                                                                                                                                                                                                                                                                                           \n",
      ". Error: Insufficient data\n",
      "Total number of parsing errors: 7\n"
     ]
    }
   ],
   "source": [
    "import re\n",
    "from datetime import datetime\n",
    "\n",
    "# Define the file path\n",
    "file_path = '/Users/yshokrollahi/Desktop/MD/Project3/dataset/IF/SET2/annotations/MS018.txt'\n",
    "\n",
    "# Function to safely parse coordinate data\n",
    "def parse_coordinates(coord_string):\n",
    "    try:\n",
    "        coordinates = eval(coord_string)\n",
    "        if isinstance(coordinates, list) and all(isinstance(coord, tuple) for coord in coordinates):\n",
    "            return coordinates\n",
    "    except:\n",
    "        return []\n",
    "\n",
    "# Function to parse a line\n",
    "def parse_line(line):\n",
    "    # Use regex to split line while ignoring commas within square brackets\n",
    "    parts = re.split(r',(?![^\\[\\]]*\\])', line.strip())\n",
    "\n",
    "    if len(parts) < 6:\n",
    "        return None, 'Insufficient data'\n",
    "\n",
    "    try:\n",
    "        active = int(parts[0])\n",
    "        index = int(parts[1])\n",
    "        data_type = int(parts[2])\n",
    "        coordinates = parse_coordinates(parts[3])\n",
    "        colour = parts[4]\n",
    "        fixed_value = int(parts[5])\n",
    "    except ValueError as e:\n",
    "        return None, str(e)\n",
    "\n",
    "    return {\n",
    "        'Active': active,\n",
    "        'Index': index,\n",
    "        'Type': data_type,\n",
    "        'Coordinates': coordinates,\n",
    "        'Colour': colour,\n",
    "        'Fixed Value': fixed_value\n",
    "    }, None\n",
    "\n",
    "# Main function to read and categorize data\n",
    "def read_and_categorize(file_path):\n",
    "    categorized_data = []\n",
    "    error_count = 0\n",
    "\n",
    "    try:\n",
    "        with open(file_path, 'r') as file:\n",
    "            for line in file:\n",
    "                parsed_data, error = parse_line(line)\n",
    "                if parsed_data:\n",
    "                    categorized_data.append(parsed_data)\n",
    "#                     print(\"Data parsed successfully:\", parsed_data)\n",
    "                elif error:\n",
    "                    print(f\"Skipping line due to parsing error: {line}. Error: {error}\")\n",
    "                    error_count += 1\n",
    "    except FileNotFoundError:\n",
    "        print(f\"File not found: {file_path}\")\n",
    "    except Exception as e:\n",
    "        print(f\"An error occurred while reading the file: {e}\")\n",
    "\n",
    "    return categorized_data, error_count\n",
    "\n",
    "# Read and print the categorized data\n",
    "categorized_data, error_count = read_and_categorize(file_path)\n",
    "\n",
    "if not categorized_data and error_count == 0:\n",
    "    print(\"No data was parsed successfully.\")\n",
    "else:\n",
    "    print(f\"Total number of parsing errors: {error_count}\")\n"
   ]
  },
  {
   "cell_type": "code",
   "execution_count": 15,
   "id": "157fc329",
   "metadata": {},
   "outputs": [
    {
     "data": {
      "text/plain": [
       "{'Active': 1,\n",
       " 'Index': 1,\n",
       " 'Type': 6,\n",
       " 'Coordinates': [(0.4965736447730686, 0.9509533616932038),\n",
       "  (0.4965736447730686, 0.9509533616932038)],\n",
       " 'Colour': '#0000ff',\n",
       " 'Fixed Value': 1}"
      ]
     },
     "execution_count": 15,
     "metadata": {},
     "output_type": "execute_result"
    }
   ],
   "source": [
    "categorized_data[0]"
   ]
  },
  {
   "cell_type": "code",
   "execution_count": null,
   "id": "1bab92e3",
   "metadata": {},
   "outputs": [],
   "source": []
  }
 ],
 "metadata": {
  "kernelspec": {
   "display_name": "Python 3 (ipykernel)",
   "language": "python",
   "name": "python3"
  },
  "language_info": {
   "codemirror_mode": {
    "name": "ipython",
    "version": 3
   },
   "file_extension": ".py",
   "mimetype": "text/x-python",
   "name": "python",
   "nbconvert_exporter": "python",
   "pygments_lexer": "ipython3",
   "version": "3.11.5"
  }
 },
 "nbformat": 4,
 "nbformat_minor": 5
}
